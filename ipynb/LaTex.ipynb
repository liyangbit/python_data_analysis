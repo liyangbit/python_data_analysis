{
 "cells": [
  {
   "cell_type": "markdown",
   "metadata": {},
   "source": [
    "## 1 Markdown 中使用LaTex基础语法"
   ]
  },
  {
   "cell_type": "markdown",
   "metadata": {},
   "source": [
    "LaTeX 公式有两种，一种是用在正文中的，一种是单独显示的。\n",
    "\n",
    "正文中的公式如下: \n",
    "\n",
    "$ \\$...\\$ $\n",
    "\n",
    "单独一行显示的时候使用如下命令：\n",
    "\n",
    "$ \\$\\$...\\$\\$ $\n",
    "\n",
    "其中， \\$符号中间包含的三个点表格的是LaTex的公式命令。"
   ]
  },
  {
   "cell_type": "markdown",
   "metadata": {},
   "source": [
    "**举个例子如下：**"
   ]
  },
  {
   "cell_type": "markdown",
   "metadata": {},
   "source": [
    "行内公式  $ f(x) = \\sum_{i=0}^{N} \\int_{a}^{b} g(t,i) \\text{d}t $  行内公式\n",
    "\n",
    "下面是单独一行显示：\n",
    "\n",
    " $$ f(x) = \\sum_{i=0}^{N} \\int_{a}^{b} g(t,i) \\text{d}t \\tag{a}$$"
   ]
  },
  {
   "cell_type": "markdown",
   "metadata": {},
   "source": [
    "编辑上述公式的代码如下："
   ]
  },
  {
   "cell_type": "markdown",
   "metadata": {},
   "source": [
    "```\n",
    "行内公式  $ f(x) = \\sum_{i=0}^{N} \\int_{a}^{b} g(t,i) \\text{d}t $  行内公式\n",
    "\n",
    "下面是单独一行显示：\n",
    "\n",
    " $$ f(x) = \\sum_{i=0}^{N} \\int_{a}^{b} g(t,i) \\text{d}t \\tag{a}$$\n",
    " ```\n",
    " "
   ]
  },
  {
   "cell_type": "markdown",
   "metadata": {},
   "source": [
    "## 2 常用数学表达命令"
   ]
  },
  {
   "cell_type": "markdown",
   "metadata": {},
   "source": [
    "### 2.1 指数和下标"
   ]
  },
  {
   "cell_type": "markdown",
   "metadata": {},
   "source": [
    "指数和下标可以用 ^ 和 _ 后加相应字符来实现。比如："
   ]
  },
  {
   "cell_type": "markdown",
   "metadata": {},
   "source": [
    "LaTex命令| 显示结果 | LaTex命令| 显示结果 | LaTex命令| 显示结果 \n",
    "- |- | - | - | - | -\n",
    "a_{1} | $a_{1}$ | x^{2} | $x^{2}$| \\sum_{i=1}^{N} | $\\sum_{i=1}^{N} $"
   ]
  },
  {
   "cell_type": "markdown",
   "metadata": {},
   "source": [
    "### 2.2 平方根和n次方根"
   ]
  },
  {
   "cell_type": "markdown",
   "metadata": {},
   "source": [
    "平方根的输入命令为 \\sqrt ， n次方根的命令为 \\sqrt[n]"
   ]
  },
  {
   "cell_type": "markdown",
   "metadata": {},
   "source": [
    "LaTex命令| 显示结果 | LaTex命令| 显示结果 | LaTex命令| 显示结果 \n",
    "- |- | - | - | - | -\n",
    "\\sqrt{x} | $\\sqrt{x}$ | \\sqrt[3]{4} | $\\sqrt[3]{4}$| \\sqrt{x^2+y^2} | $ \\sqrt{x^2+y^2} $"
   ]
  },
  {
   "cell_type": "markdown",
   "metadata": {},
   "source": [
    "```\n",
    "$$\\sqrt{x^{2}+\\sqrt{y}} \\tag{2-1}$$\n",
    "```"
   ]
  },
  {
   "cell_type": "markdown",
   "metadata": {},
   "source": [
    "$$\\sqrt{x^{2}+\\sqrt{y}} \\tag{2-1}$$"
   ]
  },
  {
   "cell_type": "markdown",
   "metadata": {},
   "source": [
    "### 2.3 上下水平线"
   ]
  },
  {
   "cell_type": "markdown",
   "metadata": {},
   "source": [
    "命令 \\overline 和 \\underline 在表达式的上、下方画出水平线。比如："
   ]
  },
  {
   "cell_type": "markdown",
   "metadata": {},
   "source": [
    "LaTex命令| 显示结果 | LaTex命令| 显示结果 \n",
    "- |- | - | - | - | -\n",
    "\\overline{x+y} | $ \\overline{x+y} $ | \\underline{x+y} | $ \\underline{x+y} $"
   ]
  },
  {
   "cell_type": "markdown",
   "metadata": {},
   "source": [
    "### 2.4 上下大括号"
   ]
  },
  {
   "cell_type": "markdown",
   "metadata": {},
   "source": [
    "命令 \\overbrace 和 \\underbrace 在表达式上、下方画出一个水平的大括号。比如："
   ]
  },
  {
   "cell_type": "markdown",
   "metadata": {},
   "source": [
    "```\n",
    "$$\n",
    "\\underbrace{1+2+3+\\cdots+100}_{100}\n",
    "\\tag{2-2}\n",
    "$$\n",
    "```"
   ]
  },
  {
   "cell_type": "markdown",
   "metadata": {},
   "source": [
    "$$\n",
    "\\underbrace{1+2+3+\\cdots+100}_{100}\n",
    "\\tag{2-2}\n",
    "$$"
   ]
  },
  {
   "cell_type": "markdown",
   "metadata": {},
   "source": [
    "### 2.5 向量"
   ]
  },
  {
   "cell_type": "markdown",
   "metadata": {},
   "source": [
    "向量通常是上方有小箭头的变量表示。这可以由 \\vec 得到。 在定义从 A 到 B 的向量时，命令 \\overrightarrow  和 \\overleftarrow 非常有用。比如："
   ]
  },
  {
   "cell_type": "markdown",
   "metadata": {},
   "source": [
    "LaTex命令| 显示结果 | LaTex命令| 显示结果 \n",
    "- |- | - | - | - | -\n",
    "\\vec a | $ \\vec a $ | \\overrightarrow{AB} | $ \\overrightarrow{AB} $"
   ]
  },
  {
   "cell_type": "markdown",
   "metadata": {},
   "source": [
    "### 2.6 其他"
   ]
  },
  {
   "cell_type": "markdown",
   "metadata": {},
   "source": [
    "其他，比如 分数可以用 \\frac 命令， 求和可以用 \\sum 命令， 乘积运算可以用 \\prod 生成， 积分可以用 \\int 命令。部分示例如下："
   ]
  },
  {
   "cell_type": "markdown",
   "metadata": {},
   "source": [
    "\n",
    "\n",
    "\n",
    "\n",
    "LaTex命令| 显示结果 | LaTex命令| 显示结果 | LaTex命令| 显示结果 \n",
    "- |- | - | - | - | -\n",
    "\\sum | $\\sum$ | \\int | $\\int$| \\sum_{i=1}^{N} | $\\sum_{i=1}^{N} $\n",
    "\\int_{a}^{b} | $\\int_{a}^{b}$ | \\prod | $\\prod$| \\iint | $\\iint $\n",
    "\\prod_{i=1}^{N} | $\\prod_{i=1}^{N}$ | \\iint_{a}^{b} | $\\iint_{a}^{b}$| \\bigcup | $\\bigcup $\n",
    "\\bigcap | $\\bigcap$ | \\bigcup_{i=1}^{N} | $\\bigcup_{i=1}^{N}$| \\bigcap_{i=1}^{N} | $\\bigcap_{i=1}^{N} $\n",
    "\\sqrt[3]{2} | $\\sqrt[3]{2}$ | \\sqrt{3} | $\\sqrt{3}$| x_{3} | $ x_{3} $\n",
    "\\lim_{x \\to 0} | $\\lim_{x \\to 0}$ | \\frac{1}{2} | $\\frac{1}{2}$"
   ]
  },
  {
   "cell_type": "markdown",
   "metadata": {},
   "source": [
    "## 3 矩阵编辑"
   ]
  },
  {
   "cell_type": "markdown",
   "metadata": {},
   "source": [
    "生成矩阵使用的命令如下："
   ]
  },
  {
   "cell_type": "markdown",
   "metadata": {},
   "source": [
    "```\n",
    "$$\\begin{matrix}\n",
    "...\n",
    "\\end{matrix}$$\n",
    "```"
   ]
  },
  {
   "cell_type": "markdown",
   "metadata": {},
   "source": [
    "其中 … 表示的是 LaTeX 的矩阵命令，矩阵命令中每一行以 \\ 结束，矩阵的元素之间用 & 来分隔开。举例如下："
   ]
  },
  {
   "cell_type": "markdown",
   "metadata": {},
   "source": [
    "```\n",
    "$$\n",
    "\\begin{matrix}\n",
    "1 & 2 & 3 \\\\\n",
    "4 & 5 & 6 \\\\\n",
    "7 & 8 & 9\n",
    "\\end{matrix} \\tag{3-1}\n",
    "$$\n",
    "```"
   ]
  },
  {
   "cell_type": "markdown",
   "metadata": {},
   "source": [
    "$$\n",
    "\\begin{matrix}\n",
    "1 & 2 & 3 \\\\\n",
    "4 & 5 & 6 \\\\\n",
    "7 & 8 & 9\n",
    "\\end{matrix} \\tag{3-1}\n",
    "$$"
   ]
  },
  {
   "cell_type": "markdown",
   "metadata": {},
   "source": [
    "上述矩阵显示的不是很美观，可以给矩阵加上括号，加括号的方式有多种。"
   ]
  },
  {
   "cell_type": "markdown",
   "metadata": {},
   "source": [
    "### 3.1 带括号的矩阵 \\left \\right"
   ]
  },
  {
   "cell_type": "markdown",
   "metadata": {},
   "source": [
    "```\n",
    "$$\n",
    "\\left \\{\n",
    "\\begin{matrix}\n",
    "1 & 2 & 3 \\\\\n",
    "4 & 5 & 6 \\\\\n",
    "7 & 8 & 9\n",
    "\\end{matrix} \n",
    "\\right \\} \\tag{3-2}\n",
    "$$\n",
    "```"
   ]
  },
  {
   "cell_type": "markdown",
   "metadata": {},
   "source": [
    "$$\n",
    "\\left \\{\n",
    "\\begin{matrix}\n",
    "1 & 2 & 3 \\\\\n",
    "4 & 5 & 6 \\\\\n",
    "7 & 8 & 9\n",
    "\\end{matrix} \n",
    "\\right \\} \\tag{3-2}\n",
    "$$"
   ]
  },
  {
   "cell_type": "markdown",
   "metadata": {},
   "source": [
    "或者："
   ]
  },
  {
   "cell_type": "markdown",
   "metadata": {},
   "source": [
    "```\n",
    "$$\n",
    "\\left [\n",
    "\\begin{matrix}\n",
    "1 & 2 & 3 \\\\\n",
    "4 & 5 & 6 \\\\\n",
    "7 & 8 & 9\n",
    "\\end{matrix} \n",
    "\\right ] \\tag{3-3}\n",
    "$$\n",
    "```"
   ]
  },
  {
   "cell_type": "markdown",
   "metadata": {},
   "source": [
    "$$\n",
    "\\left [\n",
    "\\begin{matrix}\n",
    "1 & 2 & 3 \\\\\n",
    "4 & 5 & 6 \\\\\n",
    "7 & 8 & 9\n",
    "\\end{matrix} \n",
    "\\right ] \\tag{3-3}\n",
    "$$"
   ]
  },
  {
   "cell_type": "markdown",
   "metadata": {},
   "source": [
    "### 3.2 带括号的矩阵 \\bmatrix \\Bmatrix"
   ]
  },
  {
   "cell_type": "markdown",
   "metadata": {},
   "source": [
    "```\n",
    "$$\n",
    "\\begin{bmatrix}\n",
    "1 & 2 & 3 \\\\\n",
    "4 & 5 & 6 \\\\\n",
    "7 & 8 & 9\n",
    "\\end{bmatrix} \n",
    " \\tag{3-4}\n",
    "$$\n",
    "```"
   ]
  },
  {
   "cell_type": "markdown",
   "metadata": {},
   "source": [
    "$$\n",
    "\\begin{bmatrix}\n",
    "1 & 2 & 3 \\\\\n",
    "4 & 5 & 6 \\\\\n",
    "7 & 8 & 9\n",
    "\\end{bmatrix} \n",
    " \\tag{3-4}\n",
    "$$"
   ]
  },
  {
   "cell_type": "markdown",
   "metadata": {},
   "source": [
    "或者："
   ]
  },
  {
   "cell_type": "markdown",
   "metadata": {},
   "source": [
    "```\n",
    "$$\n",
    "\\begin{Bmatrix}\n",
    "1 & 2 & 3 \\\\\n",
    "4 & 5 & 6 \\\\\n",
    "7 & 8 & 9\n",
    "\\end{Bmatrix} \n",
    " \\tag{3-5}\n",
    "$$\n",
    "```"
   ]
  },
  {
   "cell_type": "markdown",
   "metadata": {},
   "source": [
    "$$\n",
    "\\begin{Bmatrix}\n",
    "1 & 2 & 3 \\\\\n",
    "4 & 5 & 6 \\\\\n",
    "7 & 8 & 9\n",
    "\\end{Bmatrix} \n",
    " \\tag{3-5}\n",
    "$$"
   ]
  },
  {
   "cell_type": "markdown",
   "metadata": {},
   "source": [
    "### 3.3 带括号的矩阵 \\vmatrix \\Vmatrix"
   ]
  },
  {
   "cell_type": "markdown",
   "metadata": {},
   "source": [
    "```\n",
    "$$\n",
    "\\begin{vmatrix}\n",
    "1 & 2 & 3 \\\\\n",
    "4 & 5 & 6 \\\\\n",
    "7 & 8 & 9\n",
    "\\end{vmatrix} \n",
    " \\tag{3-6}\n",
    "$$\n",
    "```"
   ]
  },
  {
   "cell_type": "markdown",
   "metadata": {},
   "source": [
    "$$\n",
    "\\begin{vmatrix}\n",
    "1 & 2 & 3 \\\\\n",
    "4 & 5 & 6 \\\\\n",
    "7 & 8 & 9\n",
    "\\end{vmatrix} \n",
    " \\tag{3-6}\n",
    "$$"
   ]
  },
  {
   "cell_type": "markdown",
   "metadata": {},
   "source": [
    "或者："
   ]
  },
  {
   "cell_type": "markdown",
   "metadata": {},
   "source": [
    "```\n",
    "$$\n",
    "\\begin{Vmatrix}\n",
    "1 & 2 & 3 \\\\\n",
    "4 & 5 & 6 \\\\\n",
    "7 & 8 & 9\n",
    "\\end{Vmatrix} \n",
    " \\tag{3-7}\n",
    "$$\n",
    "```"
   ]
  },
  {
   "cell_type": "markdown",
   "metadata": {},
   "source": [
    "$$\n",
    "\\begin{Vmatrix}\n",
    "1 & 2 & 3 \\\\\n",
    "4 & 5 & 6 \\\\\n",
    "7 & 8 & 9\n",
    "\\end{Vmatrix} \n",
    " \\tag{3-7}\n",
    "$$"
   ]
  },
  {
   "cell_type": "markdown",
   "metadata": {},
   "source": [
    "### 3.4 带省略号的矩阵"
   ]
  },
  {
   "cell_type": "markdown",
   "metadata": {},
   "source": [
    "如果矩阵元素太多，可以用 \\cdots $\\cdots$  \\ddots $\\ddots$ \\vdots $\\vdots$ 等省略符号来定义矩阵。"
   ]
  },
  {
   "cell_type": "markdown",
   "metadata": {},
   "source": [
    "```\n",
    "$$\n",
    "\\begin{bmatrix}\n",
    "1 & 2 & \\cdots & 4 \\\\\n",
    "7 & 6 & \\cdots & 5 \\\\\n",
    "\\vdots & \\vdots & \\ddots & \\vdots \\\\\n",
    "8 & 9 & \\cdots & 10\n",
    "\\end{bmatrix} \\tag{3-8}\n",
    "$$\n",
    "```"
   ]
  },
  {
   "cell_type": "markdown",
   "metadata": {},
   "source": [
    "$$\n",
    "\\begin{bmatrix}\n",
    "1 & 2 & \\cdots & 4 \\\\\n",
    "7 & 6 & \\cdots & 5 \\\\\n",
    "\\vdots & \\vdots & \\ddots & \\vdots \\\\\n",
    "8 & 9 & \\cdots & 10\n",
    "\\end{bmatrix} \\tag{3-8}\n",
    "$$"
   ]
  },
  {
   "cell_type": "markdown",
   "metadata": {},
   "source": [
    "### 3.5 带参数的矩阵"
   ]
  },
  {
   "cell_type": "markdown",
   "metadata": {},
   "source": [
    "写增广矩阵，可能需要最右边一列单独考虑。可以用array命令来处理："
   ]
  },
  {
   "cell_type": "markdown",
   "metadata": {},
   "source": [
    "```\n",
    "$$\n",
    "\\left [\n",
    "\\begin{array}{cc|c}\n",
    "1 & 2 & 3 \\\\\n",
    "4 & 5 & 6 \\\\\n",
    "7 & 8 & 9\n",
    "\\end{array}\n",
    "\\right ]\n",
    " \\tag{3-9}\n",
    "$$\n",
    "```"
   ]
  },
  {
   "cell_type": "markdown",
   "metadata": {},
   "source": [
    "$$\n",
    "\\left [\n",
    "\\begin{array}{cc|c}\n",
    "1 & 2 & 3 \\\\\n",
    "4 & 5 & 6 \\\\\n",
    "7 & 8 & 9\n",
    "\\end{array}\n",
    "\\right ]\n",
    " \\tag{3-9}\n",
    "$$"
   ]
  },
  {
   "cell_type": "markdown",
   "metadata": {},
   "source": [
    "### 3.6 行内矩阵"
   ]
  },
  {
   "cell_type": "markdown",
   "metadata": {},
   "source": [
    "可以使用 \\big( 和 \\big) 来定义行间矩阵。Demo如下：\n"
   ]
  },
  {
   "cell_type": "markdown",
   "metadata": {},
   "source": [
    "```\n",
    "这是行内矩阵的Demo：\n",
    "$\\big( \n",
    "    \\begin{smallmatrix}\n",
    "    1 & 2 & 3 \\\\\n",
    "    4 & 5 & 6 \\\\\n",
    "    7 & 8 & 9\n",
    "    \\end{smallmatrix}\n",
    " \\big)$  后面还有……\n",
    " ```"
   ]
  },
  {
   "cell_type": "markdown",
   "metadata": {},
   "source": [
    "这是行内矩阵的Demo：\n",
    "$\\big( \n",
    "    \\begin{smallmatrix}\n",
    "    1 & 2 & 3 \\\\\n",
    "    4 & 5 & 6 \\\\\n",
    "    7 & 8 & 9\n",
    "    \\end{smallmatrix}\n",
    " \\big)$  后面还有……"
   ]
  },
  {
   "cell_type": "markdown",
   "metadata": {},
   "source": [
    "或者："
   ]
  },
  {
   "cell_type": "markdown",
   "metadata": {},
   "source": [
    "```\n",
    "这是行内矩阵的Demo：\n",
    "$ \n",
    "    \\begin{bmatrix}\n",
    "    1 & 2 & 3 \\\\\n",
    "    4 & 5 & 6 \\\\\n",
    "    7 & 8 & 9\n",
    "    \\end{bmatrix} \n",
    "$  后面还有……\n",
    "```"
   ]
  },
  {
   "cell_type": "markdown",
   "metadata": {},
   "source": [
    "这是行内矩阵的Demo：\n",
    "$ \n",
    "    \\begin{bmatrix}\n",
    "    1 & 2 & 3 \\\\\n",
    "    4 & 5 & 6 \\\\\n",
    "    7 & 8 & 9\n",
    "    \\end{bmatrix} \n",
    "$  后面还有……"
   ]
  },
  {
   "cell_type": "markdown",
   "metadata": {},
   "source": [
    "## LaTex 常用数学符号整理"
   ]
  },
  {
   "cell_type": "markdown",
   "metadata": {},
   "source": [
    "<div align=\"center\">**表1 数学模式重音符号 ** </div>\n",
    "\n",
    "\n",
    "\n",
    "符号|LaTex命令 | 符号 | LaTex命令 | 符号 |LaTex命令\n",
    "- |- | - | - | - | -\n",
    "$ \\hat{a} $| \\hat{a} | $ \\check{a} $ | \\check{a} | $ \\tilde{a} $ | \\tilde{a}\n",
    "$ \\grave{a} $ |\\grave{a} | $\\dot{a}$| \\dot{a} | $\\ddot{a}$ | \\ddot{a}\n",
    "$ \\bar{a} $ |\\bar{a} | $\\vec{a}$| \\vec{a} | $\\widehat{A}$ | \\widehat{A}\n",
    "$ \\acute{a} $ |\\acute{a} | $\\breve{a}$| \\breve{a} | $\\widetilde{A}$ | \\widetilde{A}\n",
    "\n"
   ]
  },
  {
   "cell_type": "markdown",
   "metadata": {},
   "source": [
    "<div align=\"center\">**表2 希腊字母 ** </div>\n",
    "\n",
    "符号|LaTex命令 | 符号 | LaTex命令 | 符号 |LaTex命令 | 符号 |LaTex命令\n",
    "- |- | - | - | - | - | - | -\n",
    "$ \\alpha $| \\alpha | $ \\theta $ | \\theta | $ o $ | o | $ \\upsilon $ | \\upsilon\n",
    "$ \\beta $| \\beta | $ \\vartheta $ | \\vartheta | $ \\pi $ | \\pi | $ \\phi $ | \\phi\n",
    "$ \\gamma $| \\gamma | $ \\iota $ | \\iota | $ \\varpi $ | \\varpi | $ \\varphi $ | \\varphi\n",
    "$ \\delta $| \\delta | $ \\kappa $ | \\kappa | $ \\rho $ | \\rho | $ \\chi $ | \\chi\n",
    "$ \\epsilon $| \\epsilon | $ \\lambda $ | \\lambda | $ \\varrho $ | \\varrho | $ \\psi $ | \\psi\n",
    "$ \\varepsilon $| \\varepsilon | $ \\mu $ | \\mu | $ \\sigma $ | \\sigma | $ \\omega $ | \\omega\n",
    "$ \\zeta $| \\zeta | $ \\nu $ | \\nu | $ \\varsigma $ | \\varsigma |  $ \\mathcal{O} $ | \\mathcal{O}\n",
    "$ \\eta $| \\eta | $ \\xi $ | \\xi | $ \\tau $ | \\tau \n",
    "$ \\Gamma $| \\Gamma | $ \\Lambda $ | \\Lambda | $ \\Sigma $ | \\sigma |  $ \\Psi $ | \\Psi\n",
    "$ \\Delta $| \\Delta | $ \\Xi $ | \\Xi | $ \\Upsilon $ | \\Upsilon |  $ \\Omega $ | \\Omega\n",
    "$ \\Theta $| \\Theta | $ \\Pi $ | \\Pi | $ \\Phi $ | \\Phi \n",
    "\n",
    "<div align=\"center\">\n",
    "** Tips: **\n",
    "<br>\n",
    "如果使用大写的希腊字母，把命令的首字母变成大写即可，例如 \\Gamma 输出的是  $\\Gamma$ 。\n",
    "<br>\n",
    "如果使用斜体大写希腊字母，再在大写希腊字母的LaTeX命令前加上var，例如 \\varGamma 生成 $\\varGamma$。\n",
    "\n",
    "</div>"
   ]
  },
  {
   "cell_type": "markdown",
   "metadata": {},
   "source": [
    "<div align=\"center\">**表3 二元关系 ** </div>\n",
    "\n",
    "\n",
    "\n",
    "符号|LaTex命令 | 符号 | LaTex命令 | 符号 |LaTex命令\n",
    "- |- | - | - | - | -\n",
    "$ < $| < | $ > $ | > | $ = $ | =\n",
    "$ \\le $ |\\leq 或 \\le | $\\ge $| \\geq 或 \\ge | $\\equiv$ | \\equiv\n",
    "$ \\ll $ |\\ll | $\\gg $| \\gg | $\\doteq$ | \\doteq\n",
    "$ \\prec $ |\\prec | $\\succ $| \\succ | $\\sim$ | \\sim\n",
    "$ \\preceq $ |\\preceq | $\\succeq $| \\succeq | $\\simeq$ | \\simeq\n",
    "$ \\subset $ |\\subset | $\\supset $| \\supset | $\\approx$ | \\approx\n",
    "$ \\subseteq $ |\\subseteq | $\\supseteq $| \\supseteq | $\\cong$ | \\cong\n",
    "$ \\sqsubset $ |\\sqsubset | $\\sqsupset $| \\sqsupset | $\\Join$ | \\Join\n",
    "$ \\sqsubseteq $ |\\sqsubseteq | $\\sqsupseteq $| \\sqsupseteq | $\\bowtie$ | \\bowtie\n",
    "$ \\in $ |\\in | $\\ni $| \\ni 或 \\owns | $\\propto$ | \\propto\n",
    "$ \\vdash $ |\\vdash | $\\dashv $| \\dashv | $\\models$ | \\models\n",
    "$ \\mid $ |\\mid | $\\parallel $| \\parallel | $\\perp$ | \\perp\n",
    "$ \\smile $ |\\smile | $\\frown $| \\frown | $\\asymp$ | \\asymp\n",
    "$ : $ | : | $\\notin $| \\notin | $\\neq$ | \\neq  或 \\ne\n",
    "\n",
    "\n",
    "\n",
    "<div align=\"center\">\n",
    "** Tips: **\n",
    "\n",
    "<br>\n",
    "\n",
    "可以在上述符号的相应命令前加上 \\not 命令，得到其否定形式。\n",
    "<br>\n",
    "\n",
    "例如： \\not\\subset 生成 $ \\not\\subset$\n",
    "\n",
    "</div>"
   ]
  },
  {
   "cell_type": "markdown",
   "metadata": {},
   "source": [
    "<div align=\"center\">**表4 二元运算符 ** </div>\n",
    "\n",
    "\n",
    "\n",
    "符号|LaTex命令 | 符号 | LaTex命令 | 符号 |LaTex命令\n",
    "- |- | - | - | - | -\n",
    "$ + $| + | $ - $ | - \n",
    "$ \\pm $ |\\pm | $\\mp $| \\mp | $\\triangleleft$ | \\triangleleft\n",
    "$ \\cdot $ |\\cdot | $\\div $| \\div | $\\triangleright$ | \\triangleright\n",
    "$ \\times $ |\\times | $\\setminus $| \\setminus | $\\star$ | \\star\n",
    "$ \\cup $ |\\cup | $\\cap $| \\cap | $\\ast$ | \\ast\n",
    "$ \\sqcup $ |\\sqcup | $\\sqcap $| \\sqcap | $\\circ$ | \\circ\n",
    "$ \\vee $ |\\vee 或 \\lor | $\\wedge $| \\wedge 或 \\land | $\\bullet$ | \\bullet\n",
    "$ \\oplus $ |\\oplus | $\\ominus $| \\ominus | $\\diamond$ | \\diamond\n",
    "$ \\odot $ |\\odot | $\\oslash $| \\oslash | $\\uplus$ | \\uplus\n",
    "$ \\otimes $ |\\otimes | $\\bigcirc $| \\bigcirc | $\\amalg$ | \\amalg\n",
    "$ \\bigtriangleup $ |\\bigtriangleup | $\\bigtriangledown $| \\bigtriangledown | $\\dagger$ | \\dagger\n",
    "$ \\lhd $ |\\ldh | $\\rhd $| \\rhd | $\\ddagger$ | \\ddagger\n",
    "$ \\unlhd $ |\\unldh | $\\unrhd $| \\unrhd | $\\wr$ | \\wr"
   ]
  },
  {
   "cell_type": "markdown",
   "metadata": {},
   "source": [
    "<div align=\"center\">**表5 \"大\"运算符 ** </div>\n",
    "\n",
    "\n",
    "\n",
    "符号|LaTex命令 | 符号 | LaTex命令 | 符号 |LaTex命令\n",
    "- |- | - | - | - | -\n",
    "$ \\sum $ |\\sum | $\\bigcup $| \\bigcup | $\\bigvee$ | \\bigvee\n",
    "$ \\prod $ |\\prod | $\\bigcap $| \\bigcap | $\\bigwedge$ | \\bigwedge\n",
    "$ \\coprod $ |\\coprod | $\\bigsqcup $| \\bigsqcup | $\\biguplus$ | \\biguplus\n",
    "$ \\int $ |\\int | $\\oint $| \\oint | $\\bigodot$ | \\bigodot\n",
    "$ \\bigoplus $ |\\bigoplus | $\\bigotimes $| \\bigotimes \n"
   ]
  },
  {
   "cell_type": "markdown",
   "metadata": {},
   "source": [
    "<div align=\"center\">**表6 箭头 ** </div>\n",
    "\n",
    "\n",
    "\n",
    "符号|LaTex命令 | 符号 | LaTex命令\n",
    "- |- | - | - \n",
    "$ \\leftarrow $ |\\leftarrow 或 \\gets | $\\longleftarrow $| \\longleftarrow \n",
    "$ \\rightarrow $ |\\rightarrow 或 \\to | $\\longrightarrow $| \\longrightarrow \n",
    "$ \\leftrightarrow $ |\\leftrightarrow | $\\longleftrightarrow $| \\longleftrightarrow \n",
    "$ \\Leftarrow $ |\\Leftarrow | $\\Longleftarrow $| \\Longleftarrow \n",
    "$ \\Rightarrow $ |\\Rightarrow | $\\Longrightarrow $| \\Longrightarrow \n",
    "$ \\Leftrightarrow $ |\\Leftrightarrow | $\\Longleftrightarrow $| \\Longleftrightarrow \n",
    "$ \\mapsto $ |\\mapsto | $\\longmapsto $| \\longmapsto \n",
    "$ \\hookleftarrow $ |\\hookleftarrow | $\\hookrightarrow $| \\hookrightarrow \n",
    "$ \\leftharpoonup $ |\\leftharpoonup | $\\rightharpoonup $| \\rightharpoonup \n",
    "$ \\leftharpoondown $ |\\leftharpoondown | $\\rightharpoondown $| \\rightharpoondown \n",
    "$ \\rightleftharpoons $ |\\rightleftharpoons | $\\iff $| \\iff \n",
    "$ \\uparrow $ |\\uparrow | $\\downarrow $| \\downarrow \n",
    "$ \\updownarrow $ |\\updownarrow | $\\Uparrow $| \\Uparrow \n",
    "$ \\Downarrow $ |\\Downarrow | $\\Updownarrow $| \\Updownarrow \n",
    "$ \\nearrow $ |\\nearrow | $\\searrow $| \\searrow \n",
    "$ \\swarrow $ |\\swarrow | $\\nwarrow $| \\nwarrow \n",
    "$ \\leadsto $ |\\leadsto "
   ]
  },
  {
   "cell_type": "markdown",
   "metadata": {},
   "source": [
    "<div align=\"center\">**表7 定界符 ** </div>\n",
    "\n",
    "\n",
    "\n",
    "符号|LaTex命令 | 符号 | LaTex命令 | 符号 |LaTex命令\n",
    "- |- | - | - | - | -\n",
    "$ ( $ | ( | $ ) $| ) | $\\uparrow$ | \\uparrow\n",
    "$ [ $ | [ 或 \\lbrack | $ ] $| ] 或 \\rbrack | $\\downarrow$ | \\downarrow\n",
    "$ \\{ $ | \\{ 或 \\lbrace | $ \\} $| \\} 或 \\rbrace | $\\updownarrow$ | \\updownarrow\n",
    "$ \\langle $ | \\langle | $ \\rangle $| \\rangle | $ \\vert $ | \\vert\n",
    "$ \\lfloor $ | \\lfloor | $ \\rfloor $| \\rfloor | $ \\lceil $ | \\lceil\n",
    "$ / $ | / | $ \\backslash $| \\backslash | $ \\Updownarrow $ | \\Updownarrow\n",
    "$ \\Uparrow $ | \\Uparrow | $ \\Downarrow $| \\Downarrow | $ \\Vert $ | \\Vert\n",
    "$ \\rceil $ | \\rceil"
   ]
  },
  {
   "cell_type": "markdown",
   "metadata": {
    "collapsed": true
   },
   "source": [
    "<div align=\"center\">**表8 大定界符 ** </div>\n",
    "\n",
    "\n",
    "\n",
    "符号|LaTex命令 | 符号 | LaTex命令 | 符号 |LaTex命令\n",
    "- |- | - | - | - | -\n",
    "$ \\lgroup $ | \\lgroup | $ \\rgroup $| \\rgroup | $\\lmoustache$ | \\lmoustache\n",
    "$ \\arrowvert $ | \\arrowvert | $ \\Arrowvert $| \\Arrowvert | $\\bracevert$ | \\bracevert\n",
    "$ \\rmoustache $ | \\rmoustache"
   ]
  },
  {
   "cell_type": "markdown",
   "metadata": {},
   "source": [
    "<div align=\"center\">**表9 其他字符 ** </div>\n",
    "\n",
    "符号|LaTex命令 | 符号 | LaTex命令 | 符号 |LaTex命令 | 符号 |LaTex命令\n",
    "- |- | - | - | - | - | - | -\n",
    "$ \\dots $| \\dots | $ \\cdots $ | \\cdots | $ \\vdots $ | \\vdots | $ \\ddots $ | \\ddtos\n",
    "$ \\hbar $| \\hbar | $ \\imath $ | \\imath | $ \\jmath $ | \\jmath | $ \\ell $ | \\ell\n",
    "$ \\Re $| \\Re | $ \\Im $ | \\Im | $ \\aleph $ | \\aleph | $ \\wp $ | \\wp\n",
    "$ \\forall $| \\forall | $ \\exists $ | \\exists | $ \\mho $ | \\mho | $ \\partial $ | \\partial\n",
    "$ ' $| ' | $ \\prime $ | \\prime | $ \\emptyset $ | \\emptyset | $ \\infty $ | \\infty\n",
    "$ \\nabla $| \\nabla | $ \\triangle $ | \\triangle | $ \\Box $ | \\Box | $ \\Diamond $ | \\Diamond\n",
    "$ \\bot $| \\bot | $ \\top $ | \\top | $ \\angle $ | \\angle | $ \\surd $ | \\surd\n",
    "$ \\diamondsuit $| \\diamondsuit | $ \\heartsuit $ | \\heartsuit | $ \\clubsuit $ | \\clubsuit | $ \\spadesuit $ | \\spadesuit\n",
    "$ \\neg $| \\neg 或 \\lnot | $ \\flat $ | \\flat | $ \\natural $ | \\natural | $ \\sharp $ | \\sharp"
   ]
  },
  {
   "cell_type": "markdown",
   "metadata": {},
   "source": [
    "<div align=\"center\">**表10 非数学符号 ** </div>\n",
    "\n",
    "符号|LaTex命令 | 符号 | LaTex命令 | 符号 |LaTex命令 | 符号 |LaTex命令\n",
    "- |- | - | - | - | - | - | -\n",
    "$ \\dagger $| \\dagger | $ \\S $ | \\S | $\\copyright$ | \\copyright | $ \\textregistered $ | \\textregistered\n",
    "$ \\ddagger $| \\ddagger | $ \\P $ | \\P | $ \\pounds $ | \\pounds | $ \\% $ | \\%"
   ]
  },
  {
   "cell_type": "markdown",
   "metadata": {},
   "source": [
    "<div align=\"center\">**表11 AMS 定界符 ** </div>\n",
    "\n",
    "符号|LaTex命令 | 符号 | LaTex命令 | 符号 |LaTex命令 | 符号 |LaTex命令\n",
    "- |- | - | - | - | - | - | -\n",
    "$ \\ulcorner $| \\ulcorner | $ \\urcorner $ | \\urcorner | $\\llcorner$ | \\llcorner | $ \\lrcorner $ | \\llcorner\n",
    "$ \\lvert $| \\lvert | $ \\rvert $ | \\rvert | $ \\lVert $ | \\lVert | $ \\rVert $ | \\rVert"
   ]
  },
  {
   "cell_type": "markdown",
   "metadata": {},
   "source": [
    "<div align=\"center\">**表12 AMS 希腊和希伯来字母 ** </div>\n",
    "\n",
    "\n",
    "\n",
    "符号|LaTex命令 | 符号 | LaTex命令 | 符号 |LaTex命令\n",
    "- |- | - | - | - | -\n",
    "$ \\digamma $ | \\digamma | $ \\varkappa $| \\varkappa | $\\beth$ | \\beth\n",
    "$ \\gimel $ | \\gimel | $ \\daleth $ | \\daleth"
   ]
  },
  {
   "cell_type": "markdown",
   "metadata": {},
   "source": [
    "<div align=\"center\">**表13 AMS 二元关系 ** </div>\n",
    "\n",
    "\n",
    "\n",
    "符号|LaTex命令 | 符号 | LaTex命令 | 符号 |LaTex命令\n",
    "- |- | - | - | - | -\n",
    "$ \\lessdot $ | \\lessdot | $ \\gtrdot $| \\gtrdot | $\\doteqdot$ | \\doteqdot\n",
    "$ \\leqslant $ | \\leqslant | $ \\geqslant $| \\geqslant | $\\risingdotseq$ | \\risingdotseq\n",
    "$ \\eqslantless $ | \\eqslantless | $ \\eqslantgtr $| \\eqslantgtr | $\\fallingdotseq$ | \\fallingdotseq\n",
    "$ \\leqq $ | \\leqq | $ \\geqq $| \\geqq | $\\eqcirc$ | \\eqcirc\n",
    "$ \\lll $ | \\lll 或 \\llless | $ \\ggg $| \\ggg | $\\circeq$ | \\circeq\n",
    "$ \\lesssim $ | \\lesssim | $ \\gtrsim $| \\gtrsim | $\\triangleq$ | \\triangleq\n",
    "$ \\lessapprox $ | \\lessapprox | $ \\gtrapprox $| \\gtrapprox | $\\bumpeq$ | \\bumpeq\n",
    "$ \\lessgtr $ | \\lessgtr | $ \\gtrless $| \\gtrless | $\\Bumpeq$ | \\Bumpeq\n",
    "$ \\lesseqgtr $ | \\lesseqgtr | $ \\gtreqless $| \\gtreqless | $\\thicksim$ | \\thicksim\n",
    "$ \\lesseqqgtr $ | \\lesseqqgtr | $ \\gtreqqless $| \\gtreqqless | $\\thickapprox$ | \\thickapprox\n",
    "$ \\preccurlyeq $ | \\preccurlyeq | $ \\succcurlyeq $| \\succcurlyeq | $\\approxeq$ | \\approxeq\n",
    "$ \\curlyeqprec $ | \\curlyeqprec | $ \\curlyeqsucc $| \\curlyeqsucc | $\\backsim$ | \\backsim\n",
    "$ \\precsim $ | \\precsim | $ \\succsim $| \\succsim | $\\backsimeq$ | \\backsimeq\n",
    "$ \\precapprox $ | \\precapprox | $ \\succapprox $| \\succapprox | $\\vDash$ | \\vDash\n",
    "$ \\subseteqq $ | \\subseteqq | $ \\supseteqq $| \\supseteqq | $\\Vdash$ | \\Vdash\n",
    "$ \\shortparallel $ | \\shortparallel | $ \\Supset $| \\Supset | $\\Vvdash$ | \\Vvdash\n",
    "$ \\blacktriangleleft $ | \\blacktriangleleft | $ \\sqsupset $| \\sqsupset | $\\backepsilon$ | \\backepsilon\n",
    "$ \\vartriangleright $ | \\vartriangleright | $ \\because $| \\because | $\\varpropto$ | \\varpropto\n",
    "$ \\blacktriangleright $ | \\blacktriangleright | $ \\Subset $| \\Subset | $\\between$ | \\between\n",
    "$ \\trianglerighteq $ | \\trianglerighteq | $ \\smallfrown $| \\smallfrown | $\\pitchfork$ | \\pitchfork\n",
    "$ \\vartriangleleft $ | \\vartriangleleft | $ \\shortmid $| \\shortmid | $\\smallsmile$ | \\smallsmile\n",
    "$ \\trianglelefteq $ | \\trianglelefteq | $ \\therefore $| \\therefore | $\\sqsubset$ | \\sqsubset\n"
   ]
  },
  {
   "cell_type": "markdown",
   "metadata": {},
   "source": [
    "<div align=\"center\">**表14 AMS 箭头 ** </div>\n",
    "\n",
    "\n",
    "\n",
    "符号|LaTex命令 | 符号 | LaTex命令 | 符号 |LaTex命令\n",
    "- |- | - | - | - | -\n",
    "$ \\dashleftarrow $ | \\dashleftarrow | $ \\leftleftarrows $| \\leftleftarrows | $\\leftrightarrows$ | \\leftrightarrows\n",
    "$ \\dashrightarrow $ | \\dashrightarrow | $ \\rightrightarrows $| \\rightrightarrows | $\\rightleftarrows$ | \\rightleftarrows\n",
    "$ \\Lleftarrow $ | \\Lleftarrow | $ \\twoheadleftarrow $| \\twoheadleftarrow | $\\leftarrowtail$ | \\leftarrowtail\n",
    "$ \\Rrightarrow $ | \\Rrightarrow | $ \\twoheadrightarrow $| \\twoheadrightarrow | $\\rightarrowtail$ | \\rightarrowtail\n",
    "$ \\leftrightharpoons $ | \\leftrightharpoons | $ \\Lsh $| \\Lsh | $\\looparrowleft$ | \\looparrowleft\n",
    "$ \\rightleftharpoons $ | \\rightleftharpoons | $ \\Rsh $| \\Rsh | $\\looparrowright$ | \\looparrowright\n",
    "$ \\curvearrowleft $ | \\curvearrowleft | $ \\circlearrowleft $| \\circlearrowleft | $\\upuparrows$ | \\upuparrows\n",
    "$ \\curvearrowright $ | \\curvearrowright | $ \\circlearrowright $| \\circlearrowright | $\\downdownarrows$ | \\downdownarrows\n",
    "$ \\upharpoonleft $ | \\upharpoonleft | $ \\rightsquigarrow $| \\rightsquigarrow | $\\multimap$ | \\multimap\n",
    "$ \\upharpoonright $ | \\upharpoonright | $ \\leftrightsquigarrow $| \\leftrightsquigarrow \n"
   ]
  },
  {
   "cell_type": "markdown",
   "metadata": {},
   "source": [
    "<div align=\"center\">**表15 AMS 二元否定关系符和箭头 ** </div>\n",
    "\n",
    "\n",
    "\n",
    "符号|LaTex命令 | 符号 | LaTex命令 | 符号 |LaTex命令 | 符号 |LaTex命令\n",
    "- |- | - | - | - | - | - | -\n",
    "$ \\nless $ | \\nless | $ \\lneq $| \\lneq | $ \\nleq $| \\nleq | $\\varsubsetneqq$ | \\varsubsetneqq\n",
    "$ \\ngtr $ | \\ngtr | $ \\gneq $| \\gneq | $ \\ngeq $| \\ngeq | $\\varsubsetneqq$ | \\varsubsetneqq\n",
    "$ \\nleqslant $ | \\nleqslant | $ \\lneqq $| \\lneqq | $ \\nmid $| \\nmid | $\\nsubseteqq$ | \\nsubseteqq\n",
    "$ \\ngeqslant $ | \\nngeqslantgtr | $ \\gneqq $| \\gneqq | $ \\nparallel $| \\nparallel | $\\nsupseteqq$ | \\nsupseteqq\n",
    "$ \\lvertneqq $ | \\lvertneqq | $ \\nleqq $| \\nleqq | $ \\lnsim $| \\lnsim | $\\nshortmid$ | \\nshortmid\n",
    "$ \\gvertneqq $ | \\gvertneqq | $ \\ngeqq $| \\ngeqq | $ \\gnsim $| \\gnsim | $\\nshortparallel$ | \\nshortparallel\n",
    "$ \\lnapprox $ | \\lnapprox | $ \\nsim $| \\nsim | $ \\lnapprox $| \\lnapprox | $\\nprec$ | \\nprec\n",
    "$ \\gnapprox $ | \\gnapprox | $ \\ncong $| \\ncong | $ \\gnapprox $| \\gnapprox | $\\nsucc$ | \\nsucc\n",
    "$ \\npreceq $ | \\npreceq | $ \\nvdash $| \\nvdash | $ \\nVdash $| \\nVdash | $\\precneqq$ | \\precneqq\n",
    "$ \\nsucceq $ | \\nsucceq | $ \\nvDash $| \\nvDash | $ \\nVDash $| \\nVDash | $\\succneqq$ | \\succneqq\n",
    "$ \\precnsim $ | \\precnsim | $ \\precnapprox $| \\precnapprox | $ \\subsetneq $| \\subsetneq | $\\ntriangleleft$ | \\ntriangleleft\n",
    "$ \\succnsim $ | \\succnsim | $ \\succnapprox $| \\succnapprox | $ \\supsetneq $| \\supsetneq | $\\ntriangleright$ | \\ntriangleright\n",
    "$ \\varsubsetneq $ | \\varsubsetneq | $ \\nsubseteq $| \\nsubseteq | $ \\subsetneqq $| \\subsetneqq | $\\ntrianglelefteq$ | \\ntrianglelefteq\n",
    "$ \\varsupsetneq $ | \\varsupsetneq | $ \\nsupseteq $| \\nsupseteq | $ \\supsetneqq $| \\supsetneqq | $\\ntrianglerighteq$ | \\ntrianglerighteq\n",
    "$ \\nleftarrow $ | \\nleftarrow | $ \\nrightarrow $| \\nrightarrow | $ \\nleftrightarrow $| \\nleftrightarrow \n",
    "$ \\nLeftarrow $ | \\nLeftarrow | $ \\nRightarrow $| \\nRightarrow | $ \\nLeftrightarrow $| \\nLeftrightarrow "
   ]
  },
  {
   "cell_type": "markdown",
   "metadata": {},
   "source": [
    "<div align=\"center\">**表16 AMS 二元运算符 ** </div>\n",
    "\n",
    "\n",
    "\n",
    "符号|LaTex命令 | 符号 | LaTex命令 | 符号 |LaTex命令\n",
    "- |- | - | - | - | -\n",
    "$ \\dotplus $ | \\dotplus | $ \\centerdot $| \\centerdot | $\\divideontimes$ | \\divideontimes\n",
    "$ \\ltimes $ | \\ltimes | $ \\rtimes $| \\rtimes | $\\smallsetminus$ | \\smallsetminus\n",
    "$ \\doublecup $ | \\doublecup | $ \\doublecap $| \\doublecap | $\\doublebarwedge$ | \\doublebarwedge\n",
    "$ \\veebar $ | \\veebar | $ \\barwedge $| \\barwedge | $\\circleddash$ | \\circleddash\n",
    "$ \\boxplus $ | \\boxplus | $ \\boxminus $| \\boxminus | $\\circledcirc$ | \\circledcirc\n",
    "$ \\boxtimes $ | \\boxtimes | $ \\boxdot $| \\boxdot | $\\rightthreetimes$ | \\rightthreetimes\n",
    "$ \\intercal $ | \\intercal | $ \\circledast $| \\circledast | $\\leftthreetimes$ | \\leftthreetimes\n",
    "$ \\curlyvee $ | \\curlyvee | $ \\curlywedge $| \\curlywedge "
   ]
  },
  {
   "cell_type": "markdown",
   "metadata": {},
   "source": [
    "<div align=\"center\">**表17 AMS 其他符号 ** </div>\n",
    "\n",
    "\n",
    "\n",
    "符号|LaTex命令 | 符号 | LaTex命令 | 符号 |LaTex命令\n",
    "- |- | - | - | - | -\n",
    "$ \\hbar $ | \\hbar | $ \\hslash $| \\hslash | $\\Bbbk$ | \\Bbbk\n",
    "$ \\square $ | \\square | $ \\blacksquare $| \\blacksquare | $\\circledS$ | \\circledS\n",
    "$ \\vartriangle $ | \\vartriangle | $ \\blacktriangle $| \\blacktriangle | $\\complement$ | \\complement\n",
    "$ \\triangledown $ | \\triangledown | $ \\blacktriangledown $| \\blacktriangledown | $\\Game$ | \\Game\n",
    "$ \\lozenge $ | \\lozenge | $ \\blacklozenge $| \\blacklozenge | $\\bigstar$ | \\bigstar\n",
    "$ \\angle $ | \\angle | $ \\measuredangle $| \\measuredangle \n",
    "$ \\diagup $ | \\diagup | $ \\diagdown $| \\diagdown | $\\backprime$ | \\backprime\n",
    "$ \\nexists $ | \\nexists | $ \\Finv $| \\Finv | $\\varnothing$ | \\varnothing\n",
    "$ \\eth $ | \\eth | $ \\sphericalangle $| \\sphericalangle | $\\mho$ | \\mho"
   ]
  },
  {
   "cell_type": "markdown",
   "metadata": {},
   "source": [
    "**参考文献：**\n",
    "1. 一份不太简短的 LaTex2e 介绍\n",
    "1. Markdown 中使用 LaTex， Binean的博客"
   ]
  }
 ],
 "metadata": {
  "anaconda-cloud": {},
  "kernelspec": {
   "display_name": "Python [default]",
   "language": "python",
   "name": "python3"
  },
  "language_info": {
   "codemirror_mode": {
    "name": "ipython",
    "version": 3
   },
   "file_extension": ".py",
   "mimetype": "text/x-python",
   "name": "python",
   "nbconvert_exporter": "python",
   "pygments_lexer": "ipython3",
   "version": "3.5.2"
  }
 },
 "nbformat": 4,
 "nbformat_minor": 2
}
